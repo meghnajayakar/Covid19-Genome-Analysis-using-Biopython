{
 "cells": [
  {
   "cell_type": "code",
   "execution_count": 32,
   "id": "c5a720d3",
   "metadata": {},
   "outputs": [],
   "source": [
    "import Bio\n",
    "from Bio.Seq import Seq\n",
    "from Bio import SeqIO\n",
    "import matplotlib.pyplot as plt"
   ]
  },
  {
   "cell_type": "code",
   "execution_count": 33,
   "id": "a98de4db",
   "metadata": {},
   "outputs": [
    {
     "data": {
      "text/plain": [
       "'1.83'"
      ]
     },
     "execution_count": 33,
     "metadata": {},
     "output_type": "execute_result"
    }
   ],
   "source": [
    "Bio.__version__"
   ]
  },
  {
   "cell_type": "markdown",
   "id": "bbfe582c",
   "metadata": {},
   "source": [
    "### Opening SARS-Covid19 Genome Sequence FASTA file "
   ]
  },
  {
   "cell_type": "code",
   "execution_count": 34,
   "id": "52a904c4",
   "metadata": {},
   "outputs": [
    {
     "name": "stdout",
     "output_type": "stream",
     "text": [
      "sequence information: ID: NC_045512.2\n",
      "Name: NC_045512.2\n",
      "Description: NC_045512.2 Severe acute respiratory syndrome coronavirus 2 isolate Wuhan-Hu-1, complete genome\n",
      "Number of features: 0\n",
      "Seq('ATTAAAGGTTTATACCTTCCCAGGTAACAAACCAACCAACTTTCGATCTCTTGT...AAA')\n",
      "sequence length: ID: NC_045512.2\n",
      "Name: NC_045512.2\n",
      "Description: NC_045512.2 Severe acute respiratory syndrome coronavirus 2 isolate Wuhan-Hu-1, complete genome\n",
      "Number of features: 0\n",
      "Seq('ATTAAAGGTTTATACCTTCCCAGGTAACAAACCAACCAACTTTCGATCTCTTGT...AAA')\n"
     ]
    }
   ],
   "source": [
    "with open('covid19.fasta') as fh_in:\n",
    "    for record in SeqIO.parse(fh_in, \"fasta\"):\n",
    "        print(f'sequence information: {record}')\n",
    "        print(f'sequence length: {record}')"
   ]
  },
  {
   "cell_type": "markdown",
   "id": "1fed3caf",
   "metadata": {},
   "source": [
    "### GC content Calculation\n",
    "Calculated by counting the number of Guanines and Cytosines in the sequence and then dividing that by the total length of the sequence. \n",
    "\n",
    "GC content is an important predictor of gene function and species ecology. "
   ]
  },
  {
   "cell_type": "code",
   "execution_count": 35,
   "id": "c611a3da",
   "metadata": {},
   "outputs": [],
   "source": [
    "from Bio.SeqUtils import gc_fraction"
   ]
  },
  {
   "cell_type": "code",
   "execution_count": 36,
   "id": "b0c199c2",
   "metadata": {},
   "outputs": [
    {
     "name": "stdout",
     "output_type": "stream",
     "text": [
      "GC content: 37.97277865097147\n"
     ]
    }
   ],
   "source": [
    "with open('covid19.fasta') as fh_in:\n",
    "    for record in SeqIO.parse(fh_in, \"fasta\"):\n",
    "        print(f'GC content: {gc_fraction(record.seq) * 100}')"
   ]
  },
  {
   "cell_type": "markdown",
   "id": "0eddc198",
   "metadata": {},
   "source": [
    "### Nucleotide Content Calculation"
   ]
  },
  {
   "cell_type": "code",
   "execution_count": 37,
   "id": "328a73ee",
   "metadata": {},
   "outputs": [
    {
     "name": "stdout",
     "output_type": "stream",
     "text": [
      "% of A: 29.94\n",
      "% of T: 32.08\n",
      "% of G: 19.61\n",
      "% of C: 18.37\n"
     ]
    }
   ],
   "source": [
    "with open('covid19.fasta') as fh_in:\n",
    "    for record in SeqIO.parse(fh_in, \"fasta\"):\n",
    "        seq_record = record.seq\n",
    "        seq_length = len(record.seq)\n",
    "        \n",
    "        print(f'% of A: {round(seq_record.count(\"A\")/seq_length * 100, 2)}')\n",
    "        print(f'% of T: {round(seq_record.count(\"T\")/seq_length * 100, 2)}')\n",
    "        print(f'% of G: {round(seq_record.count(\"G\")/seq_length * 100, 2)}')\n",
    "        print(f'% of C: {round(seq_record.count(\"C\")/seq_length * 100, 2)}')"
   ]
  },
  {
   "cell_type": "markdown",
   "id": "99802f39",
   "metadata": {},
   "source": [
    "### Dinucleotide Content"
   ]
  },
  {
   "cell_type": "code",
   "execution_count": 38,
   "id": "932c0e3e",
   "metadata": {},
   "outputs": [
    {
     "name": "stdout",
     "output_type": "stream",
     "text": [
      "{'AA': 2169, 'AT': 2308, 'AG': 1742, 'AC': 2023, 'TA': 2377, 'TT': 2454, 'TG': 2589, 'TC': 1413, 'GA': 1612, 'GT': 1990, 'GG': 973, 'GC': 1168, 'CA': 2084, 'CT': 2081, 'CG': 439, 'CC': 784}\n"
     ]
    }
   ],
   "source": [
    "nucleotides = ['A', 'T', 'G', 'C']\n",
    "di_nucleotide_dict = {}\n",
    "\n",
    "with open('covid19.fasta') as fh_in:\n",
    "    for record in SeqIO.parse(fh_in, \"fasta\"):\n",
    "        for n1 in nucleotides:\n",
    "            for n2 in nucleotides:\n",
    "                di = str(n1) + str(n2)\n",
    "                di_nucleotide_dict[di] = record.seq.count(di)\n",
    "\n",
    "print(di_nucleotide_dict)"
   ]
  },
  {
   "cell_type": "code",
   "execution_count": 39,
   "id": "0bbfca30",
   "metadata": {},
   "outputs": [
    {
     "data": {
      "image/png": "[encoded data removed]",
      "text/plain": [
       "<Figure size 640x480 with 1 Axes>"
      ]
     },
     "metadata": {},
     "output_type": "display_data"
    }
   ],
   "source": [
    "di = [k for k, v in di_nucleotide_dict.items()]\n",
    "\n",
    "counts = [v for k, v in di_nucleotide_dict.items()]\n",
    "\n",
    "# print(di_nucleotide_dict)\n",
    "\n",
    "plt.bar(di, counts)\n",
    "plt.xlabel(\"Dinucleotides\")\n",
    "plt.ylabel(\"Counts\")\n",
    "plt.show()"
   ]
  },
  {
   "cell_type": "code",
   "execution_count": null,
   "id": "9726e537",
   "metadata": {},
   "outputs": [],
   "source": []
  },
  {
   "cell_type": "code",
   "execution_count": 40,
   "id": "19197969",
   "metadata": {},
   "outputs": [],
   "source": [
    "# Saving the extracted features to a dataframe"
   ]
  },
  {
   "cell_type": "code",
   "execution_count": 41,
   "id": "6383cc97",
   "metadata": {},
   "outputs": [],
   "source": [
    "import numpy as np\n",
    "import pandas as pd"
   ]
  },
  {
   "cell_type": "code",
   "execution_count": 42,
   "id": "234cfeb3",
   "metadata": {},
   "outputs": [],
   "source": [
    "nucl = ['A', 'T', 'G', 'C']\n",
    "final_dict = {}"
   ]
  },
  {
   "cell_type": "code",
   "execution_count": 43,
   "id": "abe4d884",
   "metadata": {},
   "outputs": [],
   "source": [
    "with open('covid19.fasta') as fh_in:\n",
    "        for record in SeqIO.parse(fh_in, \"fasta\"):\n",
    "            for n1 in nucl:\n",
    "                for n2 in nucl:\n",
    "                    di = str(n1) + str(n2)\n",
    "                    final_dict[di] = record.seq.count(di)\n",
    "            \n",
    "            count_A = record.seq.count('A')\n",
    "            count_T = record.seq.count('T')\n",
    "            count_G = record.seq.count('G')\n",
    "            count_C = record.seq.count('C')\n",
    "            \n",
    "            final_dict['count_A'] = round(count_A/len(record) * 100, 2)\n",
    "            final_dict['count_T'] = round(count_T/len(record) * 100, 2)\n",
    "            final_dict['count_G'] = round(count_G/len(record) * 100, 2)\n",
    "            final_dict['count_C'] = round(count_C/len(record) * 100, 2)\n",
    "            \n",
    "            final_dict['GC_content'] = round(gc_fraction(record.seq), 2)\n",
    "            final_dict['Size'] = len(record)"
   ]
  },
  {
   "cell_type": "code",
   "execution_count": 44,
   "id": "77bafb8d",
   "metadata": {},
   "outputs": [],
   "source": [
    "df = pd.DataFrame.from_dict([final_dict])\n",
    "df['virus'] = \"Covid19\"\n",
    "df.to_csv('covid19_features.csv', index = None)"
   ]
  },
  {
   "cell_type": "code",
   "execution_count": 45,
   "id": "91e5da63",
   "metadata": {},
   "outputs": [
    {
     "data": {
      "text/html": [
       "<div>\n",
       "<style scoped>\n",
       "    .dataframe tbody tr th:only-of-type {\n",
       "        vertical-align: middle;\n",
       "    }\n",
       "\n",
       "    .dataframe tbody tr th {\n",
       "        vertical-align: top;\n",
       "    }\n",
       "\n",
       "    .dataframe thead th {\n",
       "        text-align: right;\n",
       "    }\n",
       "</style>\n",
       "<table border=\"1\" class=\"dataframe\">\n",
       "  <thead>\n",
       "    <tr style=\"text-align: right;\">\n",
       "      <th></th>\n",
       "      <th>AA</th>\n",
       "      <th>AT</th>\n",
       "      <th>AG</th>\n",
       "      <th>AC</th>\n",
       "      <th>TA</th>\n",
       "      <th>TT</th>\n",
       "      <th>TG</th>\n",
       "      <th>TC</th>\n",
       "      <th>GA</th>\n",
       "      <th>GT</th>\n",
       "      <th>...</th>\n",
       "      <th>CT</th>\n",
       "      <th>CG</th>\n",
       "      <th>CC</th>\n",
       "      <th>count_A</th>\n",
       "      <th>count_T</th>\n",
       "      <th>count_G</th>\n",
       "      <th>count_C</th>\n",
       "      <th>GC_content</th>\n",
       "      <th>Size</th>\n",
       "      <th>virus</th>\n",
       "    </tr>\n",
       "  </thead>\n",
       "  <tbody>\n",
       "    <tr>\n",
       "      <th>0</th>\n",
       "      <td>2169</td>\n",
       "      <td>2308</td>\n",
       "      <td>1742</td>\n",
       "      <td>2023</td>\n",
       "      <td>2377</td>\n",
       "      <td>2454</td>\n",
       "      <td>2589</td>\n",
       "      <td>1413</td>\n",
       "      <td>1612</td>\n",
       "      <td>1990</td>\n",
       "      <td>...</td>\n",
       "      <td>2081</td>\n",
       "      <td>439</td>\n",
       "      <td>784</td>\n",
       "      <td>29.94</td>\n",
       "      <td>32.08</td>\n",
       "      <td>19.61</td>\n",
       "      <td>18.37</td>\n",
       "      <td>0.38</td>\n",
       "      <td>29903</td>\n",
       "      <td>Covid19</td>\n",
       "    </tr>\n",
       "  </tbody>\n",
       "</table>\n",
       "<p>1 rows × 23 columns</p>\n",
       "</div>"
      ],
      "text/plain": [
       "     AA    AT    AG    AC    TA    TT    TG    TC    GA    GT  ...    CT   CG  \\\n",
       "0  2169  2308  1742  2023  2377  2454  2589  1413  1612  1990  ...  2081  439   \n",
       "\n",
       "    CC  count_A  count_T  count_G  count_C  GC_content   Size    virus  \n",
       "0  784    29.94    32.08    19.61    18.37        0.38  29903  Covid19  \n",
       "\n",
       "[1 rows x 23 columns]"
      ]
     },
     "execution_count": 45,
     "metadata": {},
     "output_type": "execute_result"
    }
   ],
   "source": [
    "pd.read_csv('covid19_features.csv')"
   ]
  },
  {
   "cell_type": "markdown",
   "id": "8cc66079",
   "metadata": {},
   "source": [
    "### Finding Motifs"
   ]
  },
  {
   "cell_type": "code",
   "execution_count": 47,
   "id": "35b658d6",
   "metadata": {},
   "outputs": [],
   "source": [
    "from Bio import motifs"
   ]
  },
  {
   "cell_type": "code",
   "execution_count": 48,
   "id": "b455309c",
   "metadata": {},
   "outputs": [],
   "source": [
    "my_motif = [Seq(\"ACGT\"), Seq(\"TCGA\"), Seq(\"CGGC\")]"
   ]
  },
  {
   "cell_type": "code",
   "execution_count": 49,
   "id": "6175031c",
   "metadata": {},
   "outputs": [
    {
     "name": "stdout",
     "output_type": "stream",
     "text": [
      "ACGT\n",
      "TCGA\n",
      "CGGC\n"
     ]
    }
   ],
   "source": [
    "seq = motifs.create(my_motif)\n",
    "print(seq)"
   ]
  },
  {
   "cell_type": "markdown",
   "id": "9ecc9f6e",
   "metadata": {},
   "source": [
    "#### Position Frequency Matrix"
   ]
  },
  {
   "cell_type": "code",
   "execution_count": 50,
   "id": "4014fab2",
   "metadata": {},
   "outputs": [
    {
     "name": "stdout",
     "output_type": "stream",
     "text": [
      "        0      1      2      3\n",
      "A:   1.00   0.00   0.00   1.00\n",
      "C:   1.00   2.00   0.00   1.00\n",
      "G:   0.00   1.00   3.00   0.00\n",
      "T:   1.00   0.00   0.00   1.00\n",
      "\n"
     ]
    }
   ],
   "source": [
    "print(seq.counts)"
   ]
  },
  {
   "cell_type": "code",
   "execution_count": 51,
   "id": "134c2a0b",
   "metadata": {},
   "outputs": [],
   "source": [
    "seq.weblogo('my_motif.png')"
   ]
  },
  {
   "cell_type": "code",
   "execution_count": 52,
   "id": "3afed7f9",
   "metadata": {},
   "outputs": [],
   "source": [
    "import cv2"
   ]
  },
  {
   "cell_type": "code",
   "execution_count": 53,
   "id": "b54632b0",
   "metadata": {
    "scrolled": false
   },
   "outputs": [
    {
     "data": {
      "image/png": "[encoded data removed]",
      "text/plain": [
       "<Figure size 640x480 with 1 Axes>"
      ]
     },
     "metadata": {},
     "output_type": "display_data"
    }
   ],
   "source": [
    "image = cv2.imread('my_motif.png')\n",
    "\n",
    "image_rgb = cv2.cvtColor(image, cv2.COLOR_BGR2RGB)\n",
    "\n",
    "plt.imshow(image_rgb)\n",
    "plt.axis('off')\n",
    "plt.show()"
   ]
  },
  {
   "cell_type": "code",
   "execution_count": null,
   "id": "2faa8e19",
   "metadata": {},
   "outputs": [],
   "source": []
  }
 ],
 "metadata": {
  "kernelspec": {
   "display_name": "Python 3 (ipykernel)",
   "language": "python",
   "name": "python3"
  },
  "language_info": {
   "codemirror_mode": {
    "name": "ipython",
    "version": 3
   },
   "file_extension": ".py",
   "mimetype": "text/x-python",
   "name": "python",
   "nbconvert_exporter": "python",
   "pygments_lexer": "ipython3",
   "version": "3.10.9"
  }
 },
 "nbformat": 4,
 "nbformat_minor": 5
}
